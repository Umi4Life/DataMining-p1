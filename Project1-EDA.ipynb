{
 "cells": [
  {
   "cell_type": "markdown",
   "metadata": {},
   "source": [
    "# Project 1: Exploratory Data Analysis (EDA)\n",
    "\n",
    "Last update: Jan 20, 2019\n",
    "\n",
    "\n",
    "When we start working on a dataset, it is a good idea to understand the data first. Oftentimes, we don't even know where to begin. Exploratory Data Analysis (EDA) is a good place to start because it usually tells us what to do next.\n",
    "\n",
    "> Exploratory Data Analysis refers to the critical process of performing initial investigations on data so as to discover patterns,to spot anomalies,to test hypothesis and to check assumptions with the help of summary statistics and graphical representations.\n",
    "\n",
    "\n",
    "In this project, you will be performing exploratory data analysis on two datasets. First, you will be working on NASA-HTTP dataset, which is an access log of a NASA http server. Second, you will be working on hourly PM2.5 data set from Berkeley Earth. \n",
    "\n",
    "\n",
    "## Part A: NASA-HTTP\n",
    "\n",
    "Complete the following notebook: [Project1A-ServerLog](Project1A-ServerLog.ipynb)\n",
    "\n",
    "\n",
    "## Part B: Berkeley PM2.5\n",
    "\n",
    "Complete the following notebook: [Project1B-AirQuality](Project1B-AirQuality.ipynb)\n",
    "\n"
   ]
  },
  {
   "cell_type": "code",
   "execution_count": null,
   "metadata": {
    "collapsed": true
   },
   "outputs": [],
   "source": []
  }
 ],
 "metadata": {
  "kernelspec": {
   "display_name": "Python 3",
   "language": "python",
   "name": "python3"
  },
  "language_info": {
   "codemirror_mode": {
    "name": "ipython",
    "version": 3
   },
   "file_extension": ".py",
   "mimetype": "text/x-python",
   "name": "python",
   "nbconvert_exporter": "python",
   "pygments_lexer": "ipython3",
   "version": "3.6.3"
  }
 },
 "nbformat": 4,
 "nbformat_minor": 2
}
